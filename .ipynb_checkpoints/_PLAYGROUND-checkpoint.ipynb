{
 "cells": [
  {
   "cell_type": "code",
   "execution_count": 7,
   "metadata": {},
   "outputs": [],
   "source": [
    "import csv\n",
    "\n",
    "\n",
    "class CSVtoDictConverter:\n",
    "    def open(self, filename):\n",
    "        dictionary = dict()\n",
    "        with open(filename, \"r\") as file:\n",
    "            reader = csv.reader(file)\n",
    "            for entry in reader:\n",
    "                username = entry[0]\n",
    "                dictionary[username] = dict()\n",
    "                artist = entry[1]\n",
    "                rating = entry[2]\n",
    " #               if artist in dictionary[username]:\n",
    "#                    continue\n",
    "                #else:\n",
    "                dictionary[username][artist] = rating\n",
    "\n",
    "\n",
    "\n",
    "        return dictionary"
   ]
  },
  {
   "cell_type": "code",
   "execution_count": 8,
   "metadata": {},
   "outputs": [
    {
     "data": {
      "text/plain": [
       "{'Angelica': {'Norah Jones': '4.5'}, 'Bill': {'Deadmau5': '4.5'}}"
      ]
     },
     "execution_count": 8,
     "metadata": {},
     "output_type": "execute_result"
    }
   ],
   "source": [
    "foo = CSVtoDictConverter()\n",
    "data = foo.open('data.csv')\n",
    "data"
   ]
  },
  {
   "cell_type": "code",
   "execution_count": null,
   "metadata": {},
   "outputs": [],
   "source": []
  }
 ],
 "metadata": {
  "kernelspec": {
   "display_name": "Python 3",
   "language": "python",
   "name": "python3"
  },
  "language_info": {
   "codemirror_mode": {
    "name": "ipython",
    "version": 3
   },
   "file_extension": ".py",
   "mimetype": "text/x-python",
   "name": "python",
   "nbconvert_exporter": "python",
   "pygments_lexer": "ipython3",
   "version": "3.7.3"
  }
 },
 "nbformat": 4,
 "nbformat_minor": 2
}
